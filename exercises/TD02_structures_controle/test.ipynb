{
 "cells": [
  {
   "cell_type": "code",
   "execution_count": 12,
   "metadata": {},
   "outputs": [
    {
     "name": "stdout",
     "output_type": "stream",
     "text": [
      "Factors!\n"
     ]
    }
   ],
   "source": [
    "num1, num2= 15, 5 \n",
    "\n",
    "if num1 % num2 == 0 or num2 % num1 == 0 :\n",
    "    print(\"Factors!\")"
   ]
  },
  {
   "cell_type": "markdown",
   "metadata": {},
   "source": [
    "Exercice 2"
   ]
  },
  {
   "cell_type": "code",
   "execution_count": 3,
   "metadata": {},
   "outputs": [
    {
     "name": "stdout",
     "output_type": "stream",
     "text": [
      "School cancelled\n"
     ]
    }
   ],
   "source": [
    "state = \"Georgia\"\n",
    "if state == \"New Jersey\" : \n",
    "    print(\"School isn't cancelled\")\n",
    "elif state == \"North Carolina\" : \n",
    "    print(\"School is postponed\")\n",
    "elif state == \"Georgia\" : \n",
    "    print(\"School cancelled\")\n",
    "else : \n",
    "    print(\"School's statuts is unknown\")"
   ]
  },
  {
   "cell_type": "markdown",
   "metadata": {},
   "source": [
    "Exercice 3"
   ]
  },
  {
   "cell_type": "code",
   "execution_count": 19,
   "metadata": {},
   "outputs": [
    {
     "name": "stdout",
     "output_type": "stream",
     "text": [
      "sheep\n"
     ]
    }
   ],
   "source": [
    "annee = int(input(\"Saisir une année\"))\n",
    "modulo = annee % 12\n",
    "if modulo == 0 :\n",
    "    print(\"monkey\")\n",
    "elif modulo == 1 :\n",
    "    print(\"rooster\")\n",
    "elif modulo == 2 :\n",
    "    print(\"dog\")\n",
    "elif modulo == 3 :\n",
    "    print(\"pig\")\n",
    "elif modulo == 4 :\n",
    "    print(\"rat\")\n",
    "elif modulo == 5 :\n",
    "    print(\"ox\")\n",
    "elif modulo == 6 :\n",
    "    print(\"tiger\")\n",
    "elif modulo == 7 :\n",
    "    print(\"rabbit\")\n",
    "elif modulo == 8 :\n",
    "    print(\"dragon\")\n",
    "elif modulo == 9 :\n",
    "    print(\"snake\")\n",
    "elif modulo == 10 :\n",
    "    print(\"horse\")\n",
    "else :\n",
    "    print(\"sheep\")"
   ]
  },
  {
   "cell_type": "markdown",
   "metadata": {},
   "source": [
    "Exercice 4"
   ]
  },
  {
   "cell_type": "code",
   "execution_count": 49,
   "metadata": {},
   "outputs": [
    {
     "name": "stdout",
     "output_type": "stream",
     "text": [
      "Freezing !\n"
     ]
    }
   ],
   "source": [
    "temperature, celsius = -3.7, True\n",
    "if celsius and temperature <= 0 or not celsius and temperature <= 32:\n",
    "    print(\"Freezing !\")\n",
    "else :\n",
    "    print(\"Not Freezing !\")\n",
    "\n"
   ]
  },
  {
   "cell_type": "markdown",
   "metadata": {},
   "source": [
    "Exercice 5"
   ]
  },
  {
   "cell_type": "code",
   "execution_count": 7,
   "metadata": {},
   "outputs": [
    {
     "name": "stdout",
     "output_type": "stream",
     "text": [
      "Cette année n'est pas bissextile\n"
     ]
    }
   ],
   "source": [
    "année = int(input(\"De quelle année parlez-vous?\"))\n",
    "if année % 4 == 0 and (année % 100 != 0 or année % 400 != 0) :\n",
    "    print(\"Cette année est bissextile\")\n",
    "else : \n",
    "    print(\"Cette année n'est pas bissextile\")"
   ]
  },
  {
   "cell_type": "markdown",
   "metadata": {},
   "source": [
    "2. Premiers exercices avec les structures itératives "
   ]
  },
  {
   "cell_type": "markdown",
   "metadata": {},
   "source": [
    "Exercice 6"
   ]
  },
  {
   "cell_type": "code",
   "execution_count": 5,
   "metadata": {},
   "outputs": [
    {
     "name": "stdout",
     "output_type": "stream",
     "text": [
      "Nb = 1\n",
      "Nb = 2\n",
      "Nb = 3\n",
      "Nb = 4\n",
      "Nb = 5\n",
      "Nb = 6\n",
      "Nb = 7\n",
      "Nb = 8\n",
      "Nb = 9\n",
      "Nb = 10\n"
     ]
    }
   ],
   "source": [
    "Nb = 0\n",
    "for Nb in range (1, 11) : \n",
    "    print(\"Nb =\", Nb)"
   ]
  },
  {
   "cell_type": "code",
   "execution_count": 10,
   "metadata": {},
   "outputs": [
    {
     "name": "stdout",
     "output_type": "stream",
     "text": [
      "2\n",
      "4\n",
      "6\n",
      "8\n",
      "10\n",
      "12\n",
      "14\n",
      "16\n",
      "18\n",
      "20\n"
     ]
    }
   ],
   "source": [
    "Nb = 0 \n",
    "for Nb in range (1, 21) :\n",
    "    if Nb % 2 == 0 : \n",
    "        print(Nb)"
   ]
  },
  {
   "cell_type": "markdown",
   "metadata": {},
   "source": [
    "Exercice 7"
   ]
  },
  {
   "cell_type": "code",
   "execution_count": 23,
   "metadata": {},
   "outputs": [
    {
     "name": "stdout",
     "output_type": "stream",
     "text": [
      "la moyenne est 10.0\n"
     ]
    }
   ],
   "source": [
    "n = int(input(\" Combien de nombre voulez vous ?\"))\n",
    "somme = 0\n",
    "i=0\n",
    "while i < n :\n",
    "    nbr =  int(input(\"Entrez un nombre\"))\n",
    "    somme += nbr\n",
    "    i += 1\n",
    "moyenne = somme/ n \n",
    "print(\"la moyenne est\",moyenne)\n"
   ]
  },
  {
   "cell_type": "code",
   "execution_count": 29,
   "metadata": {},
   "outputs": [
    {
     "name": "stdout",
     "output_type": "stream",
     "text": [
      "la moyenne est 7.666666666666667\n"
     ]
    }
   ],
   "source": [
    "somme = 0\n",
    "i = 0 \n",
    "nbr = 0\n",
    "while nbr != -1 :\n",
    "    nbr =  int(input(\"Entrez un nombre\"))\n",
    "    somme += nbr\n",
    "    i += 1\n",
    "moyenne = somme/ i\n",
    "print(\"la moyenne est\",moyenne)"
   ]
  },
  {
   "cell_type": "markdown",
   "metadata": {},
   "source": [
    "Exercice 8"
   ]
  },
  {
   "cell_type": "code",
   "execution_count": 31,
   "metadata": {},
   "outputs": [
    {
     "name": "stdout",
     "output_type": "stream",
     "text": [
      "1\n"
     ]
    }
   ],
   "source": [
    "n = int(input(\"Entrez un nombre\"))\n",
    "i = 0\n",
    "fact = 1 \n",
    "while i < n : \n",
    "    fact = (n- i) * fact\n",
    "    i = i + 1 \n",
    "print(fact)\n"
   ]
  },
  {
   "cell_type": "code",
   "execution_count": 48,
   "metadata": {},
   "outputs": [
    {
     "name": "stdout",
     "output_type": "stream",
     "text": [
      "n= 1\n",
      "n= 2\n",
      "n= 3\n",
      "n= 4\n",
      "n= 5\n",
      "120\n"
     ]
    }
   ],
   "source": [
    "n = int(input(\"Entrez un nombre\"))\n",
    "fact = 1\n",
    "for i in range (1, n + 1) :\n",
    "    print(\"n=\",i)\n",
    "    fact = i * fact\n",
    "print(fact)"
   ]
  },
  {
   "cell_type": "markdown",
   "metadata": {},
   "source": [
    "3. Pour aller plus loin"
   ]
  },
  {
   "cell_type": "markdown",
   "metadata": {},
   "source": [
    "Exercice 9"
   ]
  },
  {
   "cell_type": "code",
   "execution_count": null,
   "metadata": {},
   "outputs": [],
   "source": [
    "Set1 = [1, 3, 5, 7, 9, 11, 13, 15, 17, 19, 21, 23, 25, 27, 29, 31]\n",
    "Set2 = [2, 3, 6, 7, 10, 11, 14, 15, 18, 19, 22, 23, 26, 27, 30, 31]\n",
    "Set3 = [4, 5, 6, 7, 12, 13, 14, 15, 20, 21, 22, 23, 28, 29, 30, 31]\n",
    "Set4 = [8, 9, 10, 11, 12, 13, 14, 15, 24, 25, 26, 27, 28, 29, 30, 31]\n",
    "Set5 = [16, 17, 18, 19, 20, 21, 22, 23, 24, 25, 26, 27, 28, 29, 30, 31]\n",
    "\n",
    "if input(\" Ton jour de naissance se trouve dans le Set1 ? \") == yes : \n",
    "    a = Set1 [0]\n",
    "else : \n",
    "    a = 0 \n",
    "if input(\"Ton jour de naissance se toruve dans le Set2 ? \") == yes : \n",
    "    b = Set2\n",
    "else : \n",
    "    b = 0 \n",
    "if input(\"Ton jour de naissance se trouve dans le Set3 \")"
   ]
  },
  {
   "cell_type": "code",
   "execution_count": null,
   "metadata": {},
   "outputs": [],
   "source": [
    "--->EX 8 \n",
    "# Question 8.1\n",
    "nombre = int(input(\"Donnez un nombre\"))\n",
    "if nombre < 0 :\n",
    "    print(\"Mauvais nombre !\")\n",
    "else :\n",
    "    resultat = 1\n",
    "    for i in range(1, nombre + 1) :\n",
    "        resultat *= i\n",
    "    print(\"Factorielle\", nombre, \"est égal à\", resultat)\n",
    "\n",
    "\n",
    "\n",
    "--EX9\n",
    "jour_de_naissance = 0\n",
    "reponse = int(input(\"Votre jour de naissance est il dans cette liste ? (0 = non, 1 = oui) 1 3 5 7 9 11 13 15 17 19 21 23 25 27 29 31\"))\n",
    "if reponse == 1 :\n",
    "    jour_de_naissance += 1\n",
    "\n",
    "reponse = int(input(\"Votre jour de naissance est il dans cette liste ? (0 = non, 1 = oui) 2 3 6 7 10 11 14 15 18 19 22 23 26 27 30 31\"))\n",
    "if reponse == 1 :\n",
    "    jour_de_naissance += 2\n",
    "\n",
    "reponse = int(input(\"Votre jour de naissance est il dans cette liste ? (0 = non, 1 = oui) 4 5 6 7 12 13 14 15 20 21 22 23 28 29 30 31\"))\n",
    "if reponse == 1 :\n",
    "    jour_de_naissance += 4\n",
    "\n",
    "reponse = int(input(\"Votre jour de naissance est il dans cette liste ? (0 = non, 1 = oui) 8 9 10 11 12 13 14 15 24 25 26 27 28 29 30 31\"))\n",
    "if reponse == 1 :\n",
    "    jour_de_naissance += 8\n",
    "\n",
    "reponse = int(input(\"Votre jour de naissance est il dans cette liste ? (0 = non, 1 = oui) 16 17 18 19 20 21 22 23 24 25 26 27 28 29 30 31\"))\n",
    "if reponse == 1 :\n",
    "    jour_de_naissance += 16\n",
    "\n",
    "print(\"Votre jour de naissance est\", jour_de_naissance)\n"
   ]
  },
  {
   "cell_type": "markdown",
   "metadata": {},
   "source": [
    "Excercice 10:**\n",
    "\n",
    "Ecrire un programme qui permet de génèrer de manière aléatoire un nombre à deux chiffres, invite l'utilisateur à saisir un nombre à deux chiffres et détermine si l'utilisateur gagne selon les règles suivantes :\n",
    "* Si l'entrée de l'utilisateur correspond à la loterie (le nombre généré aléatoirement) dans l'ordre exact, la récompense est de 10 000€.\n",
    "* Sinon, si les deux chiffres entrés par l'utilisateur correspondent aux deux chiffres du numéro de loterie, la récompense est de 3 000€.\n",
    "* Sinon, si un chiffre dans l'entrée de l'utilisateur correspond à un chiffre dans le numéro de loterie, la récompense est de 1 000€.\n",
    "\n",
    "**Astuce :** Utiliser la fonction **random.randint(0, 99)** pour génèrer de manière aléatoire un nombre à deux chiffres. Cette fonction doit être accompagné par **import random** comme première instruction dans le code."
   ]
  },
  {
   "cell_type": "code",
   "execution_count": null,
   "metadata": {},
   "outputs": [],
   "source": [
    "import random\n",
    "\n",
    "a = random.randit(0, 99)\n",
    "nrb_loterie = 0\n",
    "\n",
    "while not nbr_loterie == a : \n",
    "    nbr_loterie = int(input(\"Entrez un nombre\"))\n",
    "    if nbr_loterie == a :\n",
    "        print(\"la récompense est de 10 000€\")\n",
    "\n",
    "\n",
    "\n",
    "\n",
    "\n",
    "\n",
    "\n",
    "\n"
   ]
  }
 ],
 "metadata": {
  "kernelspec": {
   "display_name": "Python 3.10.4 ('l1-python')",
   "language": "python",
   "name": "python3"
  },
  "language_info": {
   "codemirror_mode": {
    "name": "ipython",
    "version": 3
   },
   "file_extension": ".py",
   "mimetype": "text/x-python",
   "name": "python",
   "nbconvert_exporter": "python",
   "pygments_lexer": "ipython3",
   "version": "3.10.4"
  },
  "orig_nbformat": 4,
  "vscode": {
   "interpreter": {
    "hash": "63dc006e5192b99e8ba0af5559929b7dc1e63edc6f3e17acc1144f43024ef010"
   }
  }
 },
 "nbformat": 4,
 "nbformat_minor": 2
}
