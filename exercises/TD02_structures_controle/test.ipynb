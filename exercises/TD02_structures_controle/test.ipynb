{
 "cells": [
  {
   "cell_type": "code",
   "execution_count": 1,
   "metadata": {},
   "outputs": [
    {
     "name": "stdout",
     "output_type": "stream",
     "text": [
      "Factors!\n"
     ]
    }
   ],
   "source": [
    "num1 = 15\n",
    "num2 = 5\n",
    "\n",
    "if num1 % num2 == 0 or num2 % num1 == 0 :\n",
    "    print(\"Factors!\")"
   ]
  },
  {
   "cell_type": "markdown",
   "metadata": {},
   "source": [
    "Exercice 2"
   ]
  },
  {
   "cell_type": "code",
   "execution_count": 3,
   "metadata": {},
   "outputs": [
    {
     "name": "stdout",
     "output_type": "stream",
     "text": [
      "School cancelled\n"
     ]
    }
   ],
   "source": [
    "state = \"Georgia\"\n",
    "if state == \"New Jersey\" : \n",
    "    print(\"School isn't cancelled\")\n",
    "elif state == \"North Carolina\" : \n",
    "    print(\"School is postponed\")\n",
    "elif state == \"Georgia\" : \n",
    "    print(\"School cancelled\")\n",
    "else : \n",
    "    print(\"School's statuts is unknown\")"
   ]
  },
  {
   "cell_type": "markdown",
   "metadata": {},
   "source": [
    "Exercice 3"
   ]
  },
  {
   "cell_type": "code",
   "execution_count": null,
   "metadata": {},
   "outputs": [],
   "source": [
    "a = int(input(\"Quel est votre année de naissance ?\"))\n",
    "if a % 12 == 0\n",
    " print(\"année du singe \")\n",
    "elif a % 12 == 1 \n",
    " print(\"année du coq\")\n",
    "elif"
   ]
  },
  {
   "cell_type": "markdown",
   "metadata": {},
   "source": [
    "Exercice 4"
   ]
  },
  {
   "cell_type": "code",
   "execution_count": null,
   "metadata": {},
   "outputs": [],
   "source": []
  },
  {
   "cell_type": "markdown",
   "metadata": {},
   "source": [
    "Exercice 5"
   ]
  },
  {
   "cell_type": "code",
   "execution_count": 7,
   "metadata": {},
   "outputs": [
    {
     "name": "stdout",
     "output_type": "stream",
     "text": [
      "Cette année n'est pas bissextile\n"
     ]
    }
   ],
   "source": [
    "année = int(input(\"De quelle année parlez-vous?\"))\n",
    "if année % 4 == 0 and (année % 100 != 0 or année % 400 != 0) :\n",
    "    print(\"Cette année est bissextile\")\n",
    "else : \n",
    "    print(\"Cette année n'est pas bissextile\")"
   ]
  },
  {
   "cell_type": "markdown",
   "metadata": {},
   "source": [
    "2. Premiers exercices avec les structures itératives "
   ]
  },
  {
   "cell_type": "markdown",
   "metadata": {},
   "source": [
    "Exercice 6"
   ]
  },
  {
   "cell_type": "code",
   "execution_count": null,
   "metadata": {},
   "outputs": [],
   "source": []
  }
 ],
 "metadata": {
  "kernelspec": {
   "display_name": "Python 3.10.4 ('l1-python')",
   "language": "python",
   "name": "python3"
  },
  "language_info": {
   "codemirror_mode": {
    "name": "ipython",
    "version": 3
   },
   "file_extension": ".py",
   "mimetype": "text/x-python",
   "name": "python",
   "nbconvert_exporter": "python",
   "pygments_lexer": "ipython3",
   "version": "3.10.4"
  },
  "orig_nbformat": 4,
  "vscode": {
   "interpreter": {
    "hash": "63dc006e5192b99e8ba0af5559929b7dc1e63edc6f3e17acc1144f43024ef010"
   }
  }
 },
 "nbformat": 4,
 "nbformat_minor": 2
}
